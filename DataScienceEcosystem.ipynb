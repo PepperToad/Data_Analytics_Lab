{
 "cells": [
  {
   "cell_type": "markdown",
   "id": "707e346f-7e9c-4074-a9ca-420050682348",
   "metadata": {},
   "source": [
    "# Data Science Tools and Ecosystem"
   ]
  },
  {
   "cell_type": "markdown",
   "id": "44e2f9ef-b232-451e-aa77-3db2f4871c8d",
   "metadata": {},
   "source": [
    "In this notebook, Data Science Tools and Ecosystem are summarized."
   ]
  },
  {
   "cell_type": "markdown",
   "id": "46c43ab6-2793-4276-98b3-ea82cf599c5d",
   "metadata": {},
   "source": [
    "Some of the popular languages that Data Scientists use are:\n",
    "1. Python\n",
    "2. R\n",
    "3. SQL\n",
    "4. Java\n",
    "5. Julia\n",
    "6. Scala"
   ]
  },
  {
   "cell_type": "markdown",
   "id": "f52c8300-d5e8-40ba-adf5-d11da46a1c8d",
   "metadata": {},
   "source": [
    "**Objectives:**\n",
    "\n",
    "- List popular languages for Data Science\n",
    "- Understand key libraries used in Data Science\n",
    "- Explore the different tools and environments for Data Science\n",
    "- Learn about the importance of data transformation and integration\n",
    "- Discover how to work with data visualization techniques"
   ]
  },
  {
   "cell_type": "markdown",
   "id": "559674e2-2d9c-4f37-9724-04a8389bc063",
   "metadata": {},
   "source": [
    "Some of the commonly used libraries used by Data Scientists include:\n",
    "1. Pandas\n",
    "2. Numpy\n",
    "3. Matplotlib\n",
    "4. SciPy\n",
    "5. Scikit-learn\n",
    "6. TensorFlow"
   ]
  },
  {
   "cell_type": "markdown",
   "id": "6115da6c-1e69-4fe2-a900-1447f264320f",
   "metadata": {},
   "source": [
    "| Data Science Tools |\n",
    "|--------------------|\n",
    "| Jupyter Notebook   |\n",
    "| RStudio            |\n",
    "| Apache Zeppelin    |"
   ]
  },
  {
   "cell_type": "markdown",
   "id": "09c8446b-270c-4299-a747-42488d37a243",
   "metadata": {},
   "source": [
    "### Below are a few examples of evaluating arithmetic expressions in Python\n"
   ]
  },
  {
   "cell_type": "code",
   "execution_count": 1,
   "id": "3419c828-1817-4f33-ba13-3879f08ef632",
   "metadata": {},
   "outputs": [
    {
     "name": "stdout",
     "output_type": "stream",
     "text": [
      "[1] 17\n"
     ]
    }
   ],
   "source": [
    "#This a simple arithmetic expression to mutiply then add integers\n",
    "result <- (3 * 4) + 5\n",
    "print(result)"
   ]
  },
  {
   "cell_type": "code",
   "execution_count": 2,
   "id": "4a60a080-4e74-4e03-9cf5-c36591985959",
   "metadata": {},
   "outputs": [
    {
     "name": "stdout",
     "output_type": "stream",
     "text": [
      "[1] 3.333333\n"
     ]
    }
   ],
   "source": [
    "# This will convert 200 minutes to hours by dividing by 60\n",
    "minutes <- 200\n",
    "hours <- minutes / 60\n",
    "print(hours)"
   ]
  },
  {
   "cell_type": "markdown",
   "id": "469167aa-c15e-4ada-93ef-b6dd881ddaf9",
   "metadata": {},
   "source": [
    "## Author\n",
    "Joel Hall"
   ]
  }
 ],
 "metadata": {
  "kernelspec": {
   "display_name": "R",
   "language": "R",
   "name": "ir"
  },
  "language_info": {
   "codemirror_mode": "r",
   "file_extension": ".r",
   "mimetype": "text/x-r-source",
   "name": "R",
   "pygments_lexer": "r",
   "version": "4.4.2"
  }
 },
 "nbformat": 4,
 "nbformat_minor": 5
}
