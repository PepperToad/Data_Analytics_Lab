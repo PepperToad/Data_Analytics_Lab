{
 "cells": [
  {
   "cell_type": "markdown",
   "id": "3f70bb0f-03dc-4b1c-969a-a9bc6923ea88",
   "metadata": {},
   "source": [
    " Data Science Tools and Ecosystem"
   ]
  },
  {
   "cell_type": "markdown",
   "id": "06b8b23c-d5d2-4947-a689-5bf76adcaf93",
   "metadata": {},
   "source": [
    "In this notebook, Data Science Tools and Ecosystem are summarized"
   ]
  },
  {
   "cell_type": "markdown",
   "id": "9576bc52-ec78-4eef-83c7-d48d09a98441",
   "metadata": {},
   "source": [
    "**Objectives:**\n",
    "\n",
    "- List popular languages for Data Science\n",
    "- Understand how to evaluate arithmetic expressions in Python and R\n",
    "- Learn how to insert comments in code for better readability\n",
    "- Practice simple arithmetic operations like multiplication and addition"
   ]
  },
  {
   "cell_type": "markdown",
   "id": "89b7da4b-633c-4a04-a11e-b1fc944d92e4",
   "metadata": {},
   "source": [
    "Some of the popular languages that Data Scientists use are: 1) R 2) Python 3) SQL"
   ]
  },
  {
   "cell_type": "markdown",
   "id": "79d476a2-65d3-4337-be39-d50457961b15",
   "metadata": {},
   "source": [
    "Some Commonly used libraries by Data Scientists are 1) Pandas 2) NumPy 3) Matplotlib 4) Scikit-learn"
   ]
  },
  {
   "cell_type": "markdown",
   "id": "1d122ce7-d33a-43d9-8dbd-e3aad34b3b38",
   "metadata": {},
   "source": [
    "Data Science Tools\n",
    "1) Jupyter Notebook\n",
    "2) RStudio\n",
    "3) Apache Spark"
   ]
  },
  {
   "cell_type": "markdown",
   "id": "c173a5eb-3594-4240-ae24-a8eb73406289",
   "metadata": {},
   "source": [
    "Below are examples of evaluating arithmetic expressions in Python\n",
    "-'5+3' evaluates to '8'\n",
    "-'10+4' evaluates to '14'\n",
    "-'6*10' evaluates to '60'\n",
    "-'10/5' evaluates to '2'"
   ]
  },
  {
   "cell_type": "code",
   "execution_count": 1,
   "id": "d9e1e7e4-327d-4b55-9caf-fcd0df281324",
   "metadata": {},
   "outputs": [
    {
     "name": "stdout",
     "output_type": "stream",
     "text": [
      "[1] 17\n"
     ]
    }
   ],
   "source": [
    "# This is a simple arithmetic expression to multiply then add integers\n",
    "result <- (3 * 4) + 5\n",
    "\n",
    "# Printing the result\n",
    "print(result)"
   ]
  },
  {
   "cell_type": "code",
   "execution_count": 3,
   "id": "27f0d507-18c0-42ac-96b8-2bc741e1f232",
   "metadata": {},
   "outputs": [
    {
     "name": "stdout",
     "output_type": "stream",
     "text": [
      "[1] 3.333333\n"
     ]
    }
   ],
   "source": [
    "# This will convert 200 minutes to hours by dividing by 60\n",
    "minutes <- 200\n",
    "hours <- minutes / 60\n",
    "print(hours)"
   ]
  },
  {
   "cell_type": "markdown",
   "id": "b09ec4b6-669c-48ea-ad1f-ef594ee28692",
   "metadata": {},
   "source": [
    "## Author\n",
    "\n",
    "Joel Hall"
   ]
  }
 ],
 "metadata": {
  "kernelspec": {
   "display_name": "R",
   "language": "R",
   "name": "ir"
  },
  "language_info": {
   "codemirror_mode": "r",
   "file_extension": ".r",
   "mimetype": "text/x-r-source",
   "name": "R",
   "pygments_lexer": "r",
   "version": "4.4.2"
  }
 },
 "nbformat": 4,
 "nbformat_minor": 5
}
